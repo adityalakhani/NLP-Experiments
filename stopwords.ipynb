{
 "cells": [
  {
   "cell_type": "markdown",
   "metadata": {},
   "source": [
    "# EXP - 3 (Stopwords Removal)"
   ]
  },
  {
   "cell_type": "code",
   "execution_count": 5,
   "metadata": {},
   "outputs": [
    {
     "name": "stderr",
     "output_type": "stream",
     "text": [
      "[nltk_data] Downloading package stopwords to C:\\Users\\Aditya\n",
      "[nltk_data]     lakhani\\AppData\\Roaming\\nltk_data...\n",
      "[nltk_data]   Package stopwords is already up-to-date!\n"
     ]
    },
    {
     "data": {
      "text/plain": [
       "True"
      ]
     },
     "execution_count": 5,
     "metadata": {},
     "output_type": "execute_result"
    }
   ],
   "source": [
    "from nltk.tokenize import sent_tokenize, word_tokenize\n",
    "from nltk.corpus import stopwords\n",
    "\n",
    "nltk.download('stopwords')"
   ]
  },
  {
   "cell_type": "code",
   "execution_count": 7,
   "metadata": {},
   "outputs": [
    {
     "name": "stdout",
     "output_type": "stream",
     "text": [
      "['Night', 'slowly', 'settled', 'quiet', 'manner', 'bright', 'stars', 'began', 'appear', '.', 'On', 'hillside', ',', 'child', 'six', 'years', 'old', 'standing', 'strange', 'position', '.', 'The', 'child', '’', 'feet', 'stretched', 'apart', ',', 'toes', 'touching', 'ground', 'heels', 'lifted', ',', 'hands', 'raised', 'high', 'head', ',', 'head', 'tilted', ',', 'faint', 'spiritual', 'energy', 'constantly', 'circled', 'within', 'small', 'body', '.', 'Moonlight', 'shone', ',', 'enveloping', 'child', '’', 'body', '.', 'The', 'boy', 'continued', 'practice', 'bizarre', 'position', ',', 'inhaling', 'spiritual', 'energy', 'body', ',', 'letting', 'flow', 'along', 'meridians', '.', 'Night', 'slowly', 'passed', '.']\n",
      "['Night', 'slowly', 'settled', 'in', 'a', 'quiet', 'manner', 'and', 'bright', 'stars', 'began', 'to', 'appear', '.', 'On', 'the', 'hillside', ',', 'a', 'child', 'about', 'six', 'years', 'old', 'was', 'standing', 'in', 'a', 'strange', 'position', '.', 'The', 'child', '’', 's', 'feet', 'were', 'stretched', 'apart', ',', 'toes', 'touching', 'the', 'ground', 'with', 'the', 'heels', 'lifted', ',', 'hands', 'raised', 'high', 'above', 'the', 'head', ',', 'his', 'head', 'tilted', 'up', ',', 'and', 'faint', 'spiritual', 'energy', 'constantly', 'circled', 'within', 'his', 'small', 'body', '.', 'Moonlight', 'shone', 'down', ',', 'enveloping', 'the', 'child', '’', 's', 'body', '.', 'The', 'boy', 'continued', 'his', 'practice', 'in', 'this', 'bizarre', 'position', ',', 'inhaling', 'spiritual', 'energy', 'into', 'his', 'body', ',', 'letting', 'it', 'flow', 'along', 'his', 'meridians', '.', 'Night', 'slowly', 'passed', '.']\n"
     ]
    }
   ],
   "source": [
    "text = \"Night slowly settled in a quiet manner and bright stars began to appear. On the hillside, a child about six years old was standing in a strange position. The child’s feet were stretched apart, toes touching the ground with the heels lifted, hands raised high above the head, his head tilted up, and faint spiritual energy constantly circled within his small body. Moonlight shone down, enveloping the child’s body. The boy continued his practice in this bizarre position, inhaling spiritual energy into his body, letting it flow along his meridians. Night slowly passed.\"\n",
    "stopWords = set(stopwords.words('english'))\n",
    "words = word_tokenize(text)\n",
    "wordsFiltered = [w for w in words if w not in stopWords]\n",
    "\n",
    "print(wordsFiltered)\n",
    "print(words)"
   ]
  },
  {
   "cell_type": "code",
   "execution_count": null,
   "metadata": {},
   "outputs": [],
   "source": []
  }
 ],
 "metadata": {
  "kernelspec": {
   "display_name": "Python 3",
   "language": "python",
   "name": "python3"
  },
  "language_info": {
   "codemirror_mode": {
    "name": "ipython",
    "version": 3
   },
   "file_extension": ".py",
   "mimetype": "text/x-python",
   "name": "python",
   "nbconvert_exporter": "python",
   "pygments_lexer": "ipython3",
   "version": "3.9.13"
  }
 },
 "nbformat": 4,
 "nbformat_minor": 2
}
