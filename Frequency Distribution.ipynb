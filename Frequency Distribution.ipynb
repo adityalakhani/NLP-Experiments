{
 "cells": [
  {
   "cell_type": "code",
   "execution_count": 46,
   "id": "9c593c44-99af-4059-8ca7-a3fe654d7add",
   "metadata": {},
   "outputs": [
    {
     "name": "stdout",
     "output_type": "stream",
     "text": [
      "{'Min': 18, 'pupils': 1, 'Mom': 4, 'saying,': 1, 'passed.': 1, 'lowered': 1, 'heaven-defying': 1, 'got': 1, 'hands,': 1, 'sitting': 1, 'packed': 1, 'temperament,': 1, 'next': 1, 'pretty': 1, 'your': 2, 'sunrise.': 1, 'PREV/NEXT': 1, '\"What': 1, '\"Old': 1, 'under': 2, 'now,': 1, 'said': 4, 'manor,': 1, 'trekking': 1, 'body': 8, 'wanting': 1, 'took': 2, 'on': 93, 'their': 7, 'meridians.': 1, 'staring': 1, 'Min,': 1, 'reason': 1, 'not': 6, 'Steward': 2, 'thin': 4, 'knowing': 1, 'off': 2, 'two': 1, 'pouted': 1, 'flashed': 1, 'among': 1, 'blanked': 1, 'stretched': 1, 'Continent': 1, 'here,': 1, 'spirits': 10, '\"Big': 2, 'Hall': 4, 'rendering': 1, 'Uncle.”': 1, 'Don’t': 1, 'married': 1, 'Your': 1, 'force': 1, 'corporeal,': 1, 'Brother,': 4, 'in': 164, 'answered': 2, 'then,\"': 1, 'were': 12, 'have': 6, 'brothers': 1, 'cute': 1, 'him': 6, 'air,': 1, 'shoulder': 2, 'toes': 1, 'strong': 2, 'tilted': 1, 'Usually,': 1, 'forward:': 1, 'by': 6, 'you.”': 1, 'shape': 1, 'wanted': 1, 'spiritual': 3, 'backside!”': 1, 'lit': 5, 'pinch': 3, 'younger': 1, 'why': 1, 'hateful.': 1, 'Courtyard’s': 1, 'Other': 2, 'let': 4, 'don’t': 3, '\"Let’s': 1, 'say': 2, 'forty': 1, 'never': 2, 'Su': 6, 'reached': 1, 'faded,': 1, 'ancestors.': 1, 'Dad': 5, 'According': 1, 'Warrior’s': 1, 'world,': 1, 'couple': 1, 'turned': 2, 'outer': 1, 'At': 1, 'hall.': 8, 'spirit': 23, 'son,': 1, 'Yan,': 1, 'feet': 1, 'World,': 1, 'Xiaohai.': 1, 'He': 3, '\"I': 2, 'siblings': 2, 'till': 2, 'much!Use': 1, 'His': 1, 'person': 2, 'three': 3, 'Manor.': 2, 'new': 3, 'way': 2, 'square': 1, 'spreading': 1, 'one': 11, 'spirit.': 1, 'constantly': 1, '(or': 1, 'Uncle.': 2, 'understand': 1, 'utter': 1, 'The': 7, 'healthy': 1, 'big': 2, 'It': 3, 'light.': 2, 'even': 5, 'Spirit': 1, 'Xiaolong': 32, 'Wei;': 1, 'so': 19, 'having': 2, 'A': 13, 'awoke': 1, 'hall,': 5, 'talents': 1, 'Wei': 13, 'it': 62, 'woman.': 1, 'Brother.”': 1, 'hard': 1, 'around': 2, 'train.': 1, 'Body': 4, 'lovely': 1, 'hall;': 1, 'Nevertheless,': 1, 'power': 1, 'walked': 3, 'gradually': 1, 'we': 23, 'Ying': 6, 'Palm': 1, 'strong!': 1, 'labeled': 1, 'brightly': 1, 'child’s': 2, 'glint': 1, '01:': 1, 'heels': 1, 'reach': 2, 'energy': 3, 'thick,': 1, 'dense': 2, 'banner': 1, 'face,': 1, 'shone,': 1, 'dark': 1, 'long': 36, 'It’s': 2, 'everyone': 2, 'another': 2, 'Shaolin': 1, 'Snow': 1, 'straight': 1, 'suddenly,': 1, 'look.”': 1, 'warriors’': 1, 'boy': 2, 'sure': 1, 'average,': 1, 'man': 16, 'Ming': 10, 'closest': 1, 'let’s': 2, 'late,': 1, 'body,': 2, 'son.': 2, 'later,': 1, 'my': 1, 'flow': 1, 'residents': 1, 'face': 5, 'stage,': 2, 'smile:': 1, 'older': 1, 'special': 1, 'oppressive': 1, 'uncle': 1, 'top': 2, 'faint': 3, 'old': 11, 'day': 4, 'Hall;': 1, 'Night': 2, 'martial': 18, 'Qide’s': 1, 'robe,': 1, 'Until': 1, 'sister': 2, '\"Dad,': 1, 'pattern': 2, 'emerged': 1, 'Huang': 93, 'headed': 1, 'head,': 1, 'could': 1, 'Chapter': 1, 'overwhelming': 1, 'expressionless': 2, 'Manor,': 1, 'spot': 1, 'appear.': 1, 'deep,': 1, 'sharp': 2, 'here': 10, 'tiger’s': 1, 'Tiger': 3, 'innocence,': 1, 'made': 2, '“Since': 1, 'time--': 1, '\"Yes,': 2, 'more': 1, '\"This': 1, 'train': 4, 'brother’s': 1, 'told': 1, 'memory,': 1, 'Thank': 1, 'born': 3, 'ground': 1, 'started': 1, 'looked': 3, 'are': 11, 'finally': 1, 'any': 1, 'shone': 3, 'seat.': 1, 'Ming,': 2, 'offense.': 1, 'Tiger!\"': 1, 'since': 1, 'cheeks!”': 1, 'reveal': 1, 'absorb': 1, 'Manor’s': 4, 'swept': 1, 'Finally,': 1, 'make': 1, 'his': 51, 'inheritance': 1, 'there': 4, 'hair': 1, 'bright': 3, 'Warrior.': 1, 'resounded': 1, 'awakening?': 1, '\"Do': 1, 'Clan': 11, 'practicing': 1, 'forward': 3, 'Min’s': 2, 'Laughing': 1, 'termed': 1, 'her': 38, 'both': 1, 'existence': 2, 'circled': 1, 'Now': 1, 'someone': 1, 'robe': 4, 'hill.': 1, 'for': 24, 'fourteen': 1, 'strange': 1, 'Old': 3, 'three.': 1, 'This': 6, 'been': 3, 'interjected': 1, 'up,': 1, 'echoed': 1, 'group': 2, 'cried': 2, 'trace': 1, 'little': 4, 'Yan': 6, 'had': 15, 'hailed': 1, 'lifted,': 1, 'was': 33, 'time': 3, 'of': 39, 'Next': 2, 'Human': 1, 'surrounded': 1, 'sacred': 1, 'him,': 1, 'rising': 1, 'most': 1, 'rushed': 1, 'here.\"': 1, 'laugh,': 1, 'black': 5, 'Three-Eyed': 3, 'hall': 17, 'From': 1, 'moment.': 1, 'now': 7, 'main': 4, 'Site.': 1, 'replaced': 1, 'because': 1, 'crowd': 1, 'know.\"': 1, 'spank': 1, '\"Grandpa.”': 1, 'and': 50, 'greeting': 1, 'Xiaolong,': 2, 'Moonlight': 1, 'however,': 1, 'position,': 1, 'high;': 1, 'tremendously': 1, 'children': 1, 'catch': 1, 'years,': 1, 'sulkily:': 1, 'sourly.': 1, 'where': 1, 'time,': 1, 'few': 1, 'better': 1, 'bizarre': 1, 'Ninth': 2, 'Grandfather': 2, 'would': 4, 'at': 43, 'this,': 1, 'previous': 4, 'deadpan': 1, 'you': 13, 'with': 14, 'rustle': 1, 'did': 2, 'these': 2, 'same': 1, 'unable': 2, 'all': 33, 'grandson': 1, 'Disciplinary': 1, 'infinitely': 1, 'who': 7, 'Third': 1, 'moonlight': 1, 'up;': 1, 'that': 7, 'spirit,': 2, 'arrived': 3, 'front': 1, 'body.': 4, 'rays': 1, 'early': 1, 'light': 12, 'Lord!\"': 1, 'letting': 1, 'Hall,': 1, 'days': 1, 'past': 1, 'amiably,': 1, 'gray': 3, 'keys': 1, 'matter': 2, 'what': 1, 'quiet': 1, 'settled': 1, 'to': 61, 'mid-thirties': 1, 'without': 2, 'braids,': 1, 'frighten': 1, 'bring': 1, 'related': 1, 'imposing': 1, 'rest': 1, 'high': 4, 'touching': 1, 'pay': 1, 'Chief': 2, 'planning': 1, 'Libread.com.': 1, 'Eldest': 3, 'Order': 1, 'tender,': 1, 'be': 33, 'talent': 4, 'laughed': 1, 'situated': 1, 'stepped': 1, 'Lord': 4, 'if': 8, 'out:': 3, 'humans': 1, 'spirits...': 1, 'an': 221, 'gray-robe': 1, 'Wei.': 3, 'forming': 1, 'slightly,': 1, '...': 2, 'sword-like': 1, 'hillside,': 1, 'world.': 2, 'turning': 1, 'And': 1, 'Metamorphose': 4, 'being': 2, '\"Mom': 1, 'area': 1, 'bookmark': 1, 'above': 2, 'heartily': 1, 'life:': 1, 'talent,': 1, 'Chen': 6, 'look,': 1, 'Today,': 1, 'Soon,': 1, 'moment,': 1, 'stunned.': 1, 'screaming,': 1, 'about': 2, 'pinched': 2, 'first.\"': 1, 'Eastern': 1, 'entered': 1, 'eyes.': 1, 'pleased.': 1, 'soft': 1, 'outside': 1, 'people--': 1, 'coming': 1, 'saw': 2, 'emanated': 1, 'inhaling': 1, 'Gate.': 1, 'years': 7, 'girl': 2, 'Manor': 14, 'called': 2, 'seemed': 1, 'out': 16, 'seven': 4, 'people': 5, 'direction': 1, 'he': 238, 'An': 3, 'respectfully,': 1, 'know': 4, 'just': 2, 'patterned': 1, 'Wei’s': 1, 'hill': 5, 'Clan.': 1, 'strength': 2, 'after': 4, 'Qide': 9, 'moment': 3, 'round': 5, 'one’s': 1, 'showed': 1, 'Ming.': 1, 'brought': 2, 'shadow': 2, 'Xiaolong’s': 7, 'father': 7, 'laced': 2, 'over,': 1, 'finished': 1, 'slowly': 3, 'present': 3, 'life,': 4, 'graded': 2, 'golden': 1, '\"Brother,': 3, 'waiting': 1, 'than': 3, 'Temple': 1, 'rubbed': 1, 'Upon': 1, 'ceremony.': 3, 'then': 5, 'him.': 2, 'watched': 1, 'ten': 8, 'crippled': 1, 'small': 3, 'voice': 3, 'came': 4, 'the': 156, 'followed': 1, 'run!\"': 1, 'opened': 1, 'soon': 1, 'chased': 1, 'hillside.': 1, 'When': 4, 'sharp,': 1, '“Eldest': 1, 'morning?\"': 1, 'higher': 1, 'arrived,': 1, 'manner': 1, 'brother,': 2, 'become': 1, 'arrival,': 1, 'looking': 5, 'foothills.': 1, 'along': 1, 'Punishment': 1, 'squeezed': 1, 'Ying;': 1, 'stand': 5, 'standing': 3, 'footsteps': 1, 'Please': 1, 'Everyone': 1, 'strict': 1, 'across': 1, 'Thus,': 1, 'arts': 1, 'arrow': 1, 'began': 1, 'moved': 1, 'stood': 3, 'tiger': 4, 'again': 2, 'seen': 1, 'mouthful': 1, 'Not': 1, 'brows:': 1, 'world’s': 1, 'apart,': 1, 'first': 2, 'raised': 2, 'into': 5, 'existence.': 1, 'Martial': 8, 'prodigy': 1, '\"Dad!”': 1, 'still': 1, 'six': 1, 'scholarly': 1, 'run': 2, 'from': 4, '\"Where': 1, 'grandfather’s': 1, 'eyebrows,': 1, 'asked.': 1, 'chapter': 1, 'ceremony.”': 1, 'charge': 1, '\"It’s': 1, 'continued': 1, 'see': 3, 'enough,': 1, 'year': 9, 'smiled': 4, 'Propping': 1, 'truly': 1, 'Black': 3, 'trained': 2, 'look': 11, 'appearance': 1, 'no': 36, 'Back': 1, 'deep': 2, 'glowed': 1, 'smiled,': 1, 'ferocious': 1, 'before': 5, 'hands': 2, 'this': 10, 'second': 1, 'trembling': 1, 'once': 1, 'Even': 1, 'In': 3, 'beam': 5, 'up.': 1, 'work,': 1, 'braided': 1, 'like': 3, 'child.\"': 1, 'them.': 1, 'knew': 1, 'Ying’s': 2, 'present.': 1, 'child': 8, 'Freewebnovel.com': 1, 'possessed': 1, 'moving': 1, 'low,': 1, 'Peng': 9, 'spirits,': 3, 'Peng’s': 1, 'breathed': 1, 'Stage:': 1, 'fell': 1, 'already': 4, 'be?': 1, 'other': 15, 'trying': 1, 'channeling': 1, 'considered': 2, 'ancestors': 2, 'named': 1, 'seventeen': 2, 'superb': 2, 'said:': 3, 'quickly': 2, 'hi': 90, 'hexagonal': 2, 'If': 1, 'imagined': 1, 'Wind': 1, 'word': 2, 'position.': 1, 'wastes!': 1, 'Grandfather.\"': 1, 'but': 1, 'again.': 1, 'heard': 3, 'Greeting': 1, 'closely': 1, 'awakening': 4, 'baby.': 1, 'awaken': 6, 'ceremony': 4, 'me?\"': 2, 'stopping': 1, 'stars': 1, 'down': 2, 'Mom,': 1, 'voice.': 1, 'matter?\"': 1, 'Xiaolong.': 1, 'foul': 1, 'over': 9, 'start': 2, 'high-grade': 1, 'On': 1, 'respects.': 1, 'escape.': 1, 'With': 1, 'exited': 1, 'middle-aged': 2, 'too': 6, 'eyes': 8, 'Sorry': 1, 'does,': 1, 'as': 53, 'person.': 1, 'fine.': 1, 'brief': 1, 'As': 4, 'white': 1, 'them': 2, 'will': 2, 'loosened': 1, 'day,': 2, 'Although': 1, 'frolicked': 1, 'nodded': 2, 'others': 2, 'behind': 2, 'sunshine,': 1, 'Uncle': 3, 'within': 3, 'those': 1, 'arms': 1, 'I': 12, 'until': 1, 'battle': 2, 'go': 6, 'side.': 2, 'quickly:': 1, '/': 2, 'roar': 1, 'parents': 1, 'Wei,': 3, 'opponent.': 1, '\"You’re': 1, 'down,': 1, 'asked': 2, 'four': 2, 'dressed': 1, 'Peng,': 1, 'tension': 1, 'lightly': 2, 'Qide,': 1, 'you,': 1, 'they': 3, 'Sky': 1, 'newborn': 1, 'head': 5, 'during': 1, 'begin.”': 1, 'cheeks': 3, 'focused': 1, 'inconvenience.': 1, 'spirits.': 2, 'Scripture': 4, 'also': 6, 'center': 5, 'very': 6, 'Min.': 1, 'qi?': 1, 'beam.': 1, 'enveloping': 2, 'D)': 1, 'ninth': 1, 'Yan.': 1, 'managed': 2, 'sister,': 1, 'follower': 1, 'So': 3, 'grade': 5, 'back.': 1, 'condensed': 1, 'Lord.\"': 1, 'grandfather,': 1, 'age': 11, 'practice': 1, 'hearty': 1, 'lord': 1, 'laughter': 1, 'laugh.': 1, 'therefore,': 1, 'stared': 1, 'spirits;': 1, 'five-year-old': 1, 'Ming’s': 3, 'up': 11, '\"Long’er,': 1, 'became': 1, 'a': 775, 'palms.': 1, 'sun.': 1, 'established': 2, 'Our': 1, 'childlike': 1, 'back': 3, 'speaking,': 1, 'wrapped': 1, 'aura.': 1, 'mother,': 1, '\"Huang': 1, 'However,': 1, 'is': 69, 'led': 13, 'qi,': 1, 'usually': 1, 'Xiaolong;': 1, 'old.': 1, 'that,': 1, 'none': 1, 'Tiger!Announcement:': 1, 'depressed': 1}\n"
     ]
    }
   ],
   "source": [
    "file = open(\"test.txt\", encoding=\"utf8\")\n",
    "\n",
    "text = file.read()\n",
    "unique = set([word for word in text.split()])\n",
    "\n",
    "freq = {key: text.count(key) for key in unique}\n",
    "print(freq)"
   ]
  },
  {
   "cell_type": "code",
   "execution_count": null,
   "id": "0173ac67-a24d-4aa0-8091-dd059cdd5426",
   "metadata": {},
   "outputs": [],
   "source": []
  }
 ],
 "metadata": {
  "kernelspec": {
   "display_name": "Python 3 (ipykernel)",
   "language": "python",
   "name": "python3"
  },
  "language_info": {
   "codemirror_mode": {
    "name": "ipython",
    "version": 3
   },
   "file_extension": ".py",
   "mimetype": "text/x-python",
   "name": "python",
   "nbconvert_exporter": "python",
   "pygments_lexer": "ipython3",
   "version": "3.9.13"
  }
 },
 "nbformat": 4,
 "nbformat_minor": 5
}
