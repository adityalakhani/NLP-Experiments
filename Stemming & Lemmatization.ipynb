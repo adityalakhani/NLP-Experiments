{
 "cells": [
  {
   "cell_type": "markdown",
   "id": "183c9506-78ad-49df-9528-c1a19eb8e920",
   "metadata": {},
   "source": [
    "# EXP - 2 (Stemming & Lemmatization)"
   ]
  },
  {
   "cell_type": "code",
   "execution_count": 1,
   "id": "4b3563d5-783e-4605-8f98-33bbec41725a",
   "metadata": {},
   "outputs": [
    {
     "name": "stdout",
     "output_type": "stream",
     "text": [
      "['night', 'slowli', 'settl', 'in', 'a', 'quiet', 'manner', 'and', 'bright', 'star', 'began', 'to', 'appear.', 'on', 'the', 'hillside,', 'a', 'child', 'about', 'six', 'year', 'old', 'wa', 'stand', 'in', 'a', 'strang', 'position.', 'the', 'child’', 'feet', 'were', 'stretch', 'apart,', 'toe', 'touch', 'the', 'ground', 'with', 'the', 'heel', 'lifted,', 'hand', 'rais', 'high', 'abov', 'the', 'head,', 'hi', 'head', 'tilt', 'up,', 'and', 'faint', 'spiritu', 'energi', 'constantli', 'circl', 'within', 'hi', 'small', 'body.', 'moonlight', 'shone', 'down,', 'envelop', 'the', 'child’', 'body.', 'the', 'boy', 'continu', 'hi', 'practic', 'in', 'thi', 'bizarr', 'position,', 'inhal', 'spiritu', 'energi', 'into', 'hi', 'body,', 'let', 'it', 'flow', 'along', 'hi', 'meridians.', 'night', 'slowli', 'passed.']\n"
     ]
    }
   ],
   "source": [
    "from nltk.stem.porter import *\n",
    "\n",
    "file = open(\"test.txt\", encoding=\"utf8\")\n",
    "text = \"Night slowly settled in a quiet manner and bright stars began to appear. On the hillside, a child about six years old was standing in a strange position. The child’s feet were stretched apart, toes touching the ground with the heels lifted, hands raised high above the head, his head tilted up, and faint spiritual energy constantly circled within his small body. Moonlight shone down, enveloping the child’s body. The boy continued his practice in this bizarre position, inhaling spiritual energy into his body, letting it flow along his meridians. Night slowly passed.\"\n",
    "plurals = text.split()\n",
    "print([PorterStemmer().stem(plural) for plural in plurals])"
   ]
  },
  {
   "cell_type": "code",
   "execution_count": 2,
   "id": "2e2ed4e8-832d-41c1-8e48-50bc768dbf17",
   "metadata": {},
   "outputs": [
    {
     "data": {
      "text/plain": [
       "'year'"
      ]
     },
     "execution_count": 2,
     "metadata": {},
     "output_type": "execute_result"
    }
   ],
   "source": [
    "from nltk.stem import WordNetLemmatizer\n",
    "\n",
    "wnl = WordNetLemmatizer()\n",
    "wnl.lemmatize(\"years\")"
   ]
  },
  {
   "cell_type": "code",
   "execution_count": null,
   "id": "82f00f11-b3f7-47a0-8dc7-142cb0fa1c42",
   "metadata": {},
   "outputs": [],
   "source": []
  }
 ],
 "metadata": {
  "kernelspec": {
   "display_name": "Python 3 (ipykernel)",
   "language": "python",
   "name": "python3"
  },
  "language_info": {
   "codemirror_mode": {
    "name": "ipython",
    "version": 3
   },
   "file_extension": ".py",
   "mimetype": "text/x-python",
   "name": "python",
   "nbconvert_exporter": "python",
   "pygments_lexer": "ipython3",
   "version": "3.9.13"
  }
 },
 "nbformat": 4,
 "nbformat_minor": 5
}
