{
 "cells": [
  {
   "cell_type": "code",
   "execution_count": 5,
   "metadata": {},
   "outputs": [],
   "source": [
    "file = open(\"test.txt\", encoding=\"utf8\")\n",
    "\n",
    "text = [sent for sent in file]"
   ]
  },
  {
   "cell_type": "code",
   "execution_count": 9,
   "metadata": {},
   "outputs": [
    {
     "name": "stdout",
     "output_type": "stream",
     "text": [
      "('Huang Xiaolong', 25)\n"
     ]
    }
   ],
   "source": [
    "import spacy\n",
    "nlp = spacy.load('en_core_web_sm')\n",
    "\n",
    "doc = nlp(''.join(text))\n",
    "\n",
    "\n",
    "sentences = list(doc.sents)\n",
    "\n",
    "\n",
    "ents = [[e.text, e.start_char, e.end_char, e.label_] for e in doc.ents]\n",
    "\n",
    "people = []\n",
    "for i in range(len(ents)):\n",
    "  if ents[i][3] == 'PERSON':\n",
    "    people.append(ents[i][0])\n",
    "\n",
    "from collections import Counter\n",
    "print(Counter(people).most_common(1)[0])"
   ]
  },
  {
   "cell_type": "code",
   "execution_count": null,
   "metadata": {},
   "outputs": [],
   "source": []
  }
 ],
 "metadata": {
  "kernelspec": {
   "display_name": "Python 3",
   "language": "python",
   "name": "python3"
  },
  "language_info": {
   "codemirror_mode": {
    "name": "ipython",
    "version": 3
   },
   "file_extension": ".py",
   "mimetype": "text/x-python",
   "name": "python",
   "nbconvert_exporter": "python",
   "pygments_lexer": "ipython3",
   "version": "3.9.13"
  }
 },
 "nbformat": 4,
 "nbformat_minor": 2
}
